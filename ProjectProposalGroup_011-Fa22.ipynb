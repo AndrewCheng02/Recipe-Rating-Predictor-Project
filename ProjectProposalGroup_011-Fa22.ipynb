{
 "cells": [
  {
   "cell_type": "markdown",
   "metadata": {},
   "source": [
    "# COGS 108 - Final Project Proposal"
   ]
  },
  {
   "cell_type": "markdown",
   "metadata": {},
   "source": [
    "# Names\n",
    "\n",
    "- Andrew Cheng\n",
    "- Lauren Sidarto\n",
    "- Isaac Otero\n",
    "- Annie Huang"
   ]
  },
  {
   "cell_type": "markdown",
   "metadata": {},
   "source": [
    "# Research Question"
   ]
  },
  {
   "cell_type": "markdown",
   "metadata": {},
   "source": [
    "-  Include a specific, clear data science question.\n",
    "-  Make sure what you're measuring (variables) to answer the question is clear\n",
    "\n",
    "What is your research question? Include the specific question you're setting out to answer. This question should be specific, answerable with data, and clear. A general question with specific subquestions is permitted. (1-2 sentences)\n",
    "\n"
   ]
  },
  {
   "cell_type": "markdown",
   "metadata": {},
   "source": [
    "What features [nutrition, time,ingredients,step eg] of a dinner recipe are most predictive of its star rating?"
   ]
  },
  {
   "cell_type": "markdown",
   "metadata": {},
   "source": [
    "## Background and Prior Work"
   ]
  },
  {
   "cell_type": "markdown",
   "metadata": {},
   "source": [
    "\n",
    "We decided as a group to do an analysis related to food data; we felt that it's something that's very relevant and universally interesting. We've decided to utilize recipe data - something that's been done a lot before, for the same reason - since it has the potential to improve our abilities as cooks. This project will also allow us to use a good mix of data science and analysis techniques - web scraping, EDA, machine learning, and possibly sentiment analysis. \n",
    "\n",
    "There have been similar projects done before. Some notable ones:\n",
    "1) **\"Do Good Recipes Need Butter? Predicting User Ratings of Online Recipes\"**[^yu]\n",
    "- https://projet.liris.cnrs.fr/cwc/papers/cwc2013_submission_7.pdf\n",
    "- Uses an SVM to predict recipe ratings based on recipe features, but also includes reviews. They achieved an accuracy of 62%; this paper notes that there's a bias in the distribution of stars/forks, with most ratings having around 3 or 4.\n",
    "\n",
    "2) **Recipe rating prediction from text reviews**[^wang]\n",
    "- https://www.eileenwang.work/predicting-customer-rating-from-recipes\n",
    "- This one does text analysis on reviews as well. Something we wanted to potentially try doing! It also covers the differences between SVM and logistic regression, which'll help us figure out what to use.\n",
    "\n",
    "Existing work differs in category (e.g. are they looking at all groups of recipes, including drinks and desserts?), and recipe website, and features considered. They also differ greatly in the type of machine learning model used, but many utilize SVMs.\n",
    "\n",
    "[^yu]: Yu, Ning, et al. Do Good Recipes Need Butter? Predicting User Ratings of Online Recipes. https://projet.liris.cnrs.fr/cwc/papers/cwc2013_submission_7.pdf. \n",
    "[^wang]: Wang, Eileen. “Predicting Customer Rating from Recipes.” Eileen Wang, https://www.eileenwang.work/predicting-customer-rating-from-recipes. "
   ]
  },
  {
   "cell_type": "markdown",
   "metadata": {},
   "source": [
    "# Hypothesis\n"
   ]
  },
  {
   "cell_type": "markdown",
   "metadata": {},
   "source": [
    "\n",
    "- Include your team's hypothesis\n",
    "- Ensure that this hypothesis is clear to readers\n",
    "- Explain why you think this will be the outcome (what was your thinking?)\n",
    "\n",
    "What is your main hypothesis/predictions about what the answer to your question is? Briefly explain your thinking. (2-3 sentences)"
   ]
  },
  {
   "cell_type": "markdown",
   "metadata": {},
   "source": [
    "Hypothesis: We believe that factors that increase the complexity of the recipe such as longer recipe length, a higher number of ingredients, longer total cook time will lead to a lower rating. \n",
    "\n",
    "Reasoning: We believe that those who use recipes tend to be less experienced in the realm of cooking, therefore simpler recipes will produce higher ratings. "
   ]
  },
  {
   "cell_type": "markdown",
   "metadata": {},
   "source": [
    "# Data"
   ]
  },
  {
   "cell_type": "markdown",
   "metadata": {},
   "source": [
    "1. Explain what the **ideal** dataset you would want to answer this question. (This should include: What variables? How many observations? Who/what/how would these data be collected? How would these data be stored/organized?)\n",
    "1. Search for potential **real** datasets that could provide you with something useful for this project.  You do not have to find every piece of data you will use, but you do need to have demonstrated some idea that (a) this data is gettable and (b) that this data may be different from what your ideal is"
   ]
  },
  {
   "cell_type": "markdown",
   "metadata": {},
   "source": [
    "1.Our ideal dataset would include dinner recipes from an online recipe website. The features of the recipe would include the name, rating, category, total time it takes to make, ingredients, number of steps, word count of instructions, calories, and number of reviews. Ideal we would want over 1000 observations to train a predictive model. We would get this data from an online dataset or scrape the data ourselves. This data would be stored in a csv or other tabluar structure.\n",
    "\n",
    "2.We found some potential data set on the web http://pic2recipe.csail.mit.edu/, https://www.kaggle.com/datasets/kaggle/recipe-ingredients-dataset, and https://eightportions.com/datasets/Recipes/#fn:1. However these recipes don’t include ratings so they aren’t that helpful in answering our question. So we decided to scrape our own data from a single website. We’ll be using https://apify.com/dtrungtin/allrecipes-scraper#output to scrape our data from allrecipes.com - if this doesn’t work, we’ll build our own scraper using BeautifulSoup.\n"
   ]
  },
  {
   "cell_type": "markdown",
   "metadata": {},
   "source": [
    "# Ethics & Privacy"
   ]
  },
  {
   "cell_type": "markdown",
   "metadata": {},
   "source": [
    "- Thoughtful discussion of ethical concerns included\n",
    "- Ethical concerns consider the whole data science process (question asked, data collected, data being used, the bias in data, analysis, post-analysis, etc.)\n",
    "- How your group handled bias/ethical concerns clearly described\n",
    "\n",
    "Acknowledge and address any ethics & privacy related issues of your question(s), proposed dataset(s), and/or analyses. Use the information provided in lecture to guide your group discussion and thinking. If you need further guidance, check out [Deon's Ethics Checklist](http://deon.drivendata.org/#data-science-ethics-checklist). In particular:\n",
    "\n",
    "- Are there any biases/privacy/terms of use issues with the data you propsed?\n",
    "- Are there potential biases in your dataset(s), in terms of who it composes, and how it was collected, that may be problematic in terms of it allowing for equitable analysis? (For example, does your data exclude particular populations, or is it likely to reflect particular human biases in a way that could be a problem?)\n",
    "- How will you set out to detect these specific biases before, during, and after/when communicating your analysis?\n",
    "- Are there any other issues related to your topic area, data, and/or analyses that are potentially problematic in terms of data privacy and equitable impact?\n",
    "- How will you handle issues you identified?"
   ]
  },
  {
   "cell_type": "markdown",
   "metadata": {},
   "source": [
    "There could be ethical concerns related to our data collection process because we will be scraping data from the internet, so participants will not be informed that their reviews and recipes are being used in our analysis. However, because this information is publicly available, we are not concerned with possible privacy violations. We will only be collecting non-intrusive information such as recipe ingredients, ratings, and word count. Data on recipe authors will be collected, but we will not be using it in our analysis. \n",
    "\n",
    "Possible biases exist in our dataset because we are only collecting recipe data from one website. This website is an American recipe website, so there will be a lack of representation of food from other cultures, and the ratings of recipes may be skewed to represent Eurocentric opinions. The data also represents a biased population, as we are only collecting ratings from people who have reliable internet access, are able to cook for themselves, and who choose to utilize allrecipes.com. We will not be altering the dataset we use, but we will take these biases into consideration while writing our analysis and drawing conclusions. We recognize that the ratings we are using are only representative of a small population, and do not necessarily reflect a universal rating system.\n"
   ]
  },
  {
   "cell_type": "markdown",
   "metadata": {},
   "source": [
    "# Team Expectations "
   ]
  },
  {
   "cell_type": "markdown",
   "metadata": {},
   "source": [
    "\n",
    "Read over the [COGS108 Team Policies](https://github.com/COGS108/Projects/blob/master/COGS108_TeamPolicies.md) individually. Then, include your group’s expectations of one another for successful completion of your COGS108 project below. Discuss and agree on what all of your expectations are. Discuss how your team will communicate throughout the quarter and consider how you will communicate respectfully should conflicts arise. By including each member’s name above and by adding their name to the submission, you are indicating that you have read the COGS108 Team Policies, accept your team’s expectations below, and have every intention to fulfill them. These expectations are for your team’s use and benefit — they won’t be graded for their details.\n",
    "\n",
    "* *Isaac Otero*\n",
    "* *Andrew Cheng*\n",
    "* *Annie Huang*\n",
    "* *Lauren Sidarto*"
   ]
  },
  {
   "cell_type": "markdown",
   "metadata": {},
   "source": [
    "1. Be transparent with one another\n",
    "2. Be respect of time\n",
    "3. Communication-progress updates through messenger \n",
    "4. Reponse time should be within 24 hours \n",
    "5. No obligation to respond after 9pm to a message and before 8am.\n",
    "6. If conflicts arise, talk as a group to solve issues"
   ]
  },
  {
   "cell_type": "markdown",
   "metadata": {},
   "source": [
    "# Project Timeline Proposal"
   ]
  },
  {
   "cell_type": "markdown",
   "metadata": {},
   "source": [
    "Specify your team's specific project timeline. An example timeline has been provided. Changes the dates, times, names, and details to fit your group's plan.\n",
    "\n",
    "If you think you will need any special resources or training outside what we have covered in COGS 108 to solve your problem, then your proposal should state these clearly. For example, if you have selected a problem that involves implementing multiple neural networks, please state this so we can make sure you know what you’re doing and so we can point you to resources you will need to implement your project. Note that you are not required to use outside methods.\n",
    "\n",
    "\n",
    "\n",
    "| Meeting Date  | Meeting Time| Completed Before Meeting  | Discuss at Meeting |\n",
    "|---|---|---|---|\n",
    "| 10/21  |  11 AM | Read & Think about COGS 108 expectations; brainstorm topics/questions  | Determine best form of communication; Discuss and decide on final project topic; discuss hypothesis; begin background research | \n",
    "| 10/28  |  11 AM |  Do background research on topic | Scape data | \n",
    "| 11/4  | 11 AM  | Continue scraping data| Discuss roles in paper   |\n",
    "| 11/11  | 11 AM  | Clean Data and EDA | Go over results   |\n",
    "| 11/18 | 11 AM  | Finalize EDA; Begin Model building  | Discuss/edit Model; Complete project check-in |\n",
    "| 11/25  | 11 AM  | Analyze model results, data visualize|Discuss to finish paper |\n",
    "| 12/9  | Before 11:59 PM  | NA | Turn in Final Project & Group Project Surveys |"
   ]
  },
  {
   "cell_type": "code",
   "execution_count": null,
   "metadata": {},
   "outputs": [],
   "source": []
  }
 ],
 "metadata": {
  "kernelspec": {
   "display_name": "Python 3 (ipykernel)",
   "language": "python",
   "name": "python3"
  },
  "language_info": {
   "codemirror_mode": {
    "name": "ipython",
    "version": 3
   },
   "file_extension": ".py",
   "mimetype": "text/x-python",
   "name": "python",
   "nbconvert_exporter": "python",
   "pygments_lexer": "ipython3",
   "version": "3.9.5"
  }
 },
 "nbformat": 4,
 "nbformat_minor": 2
}
